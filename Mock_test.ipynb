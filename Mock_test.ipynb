{
 "cells": [
  {
   "cell_type": "code",
   "execution_count": null,
   "id": "d90ff43d",
   "metadata": {},
   "outputs": [],
   "source": [
    "#3)\n",
    "\n",
    "-->> To reduce the dimension of the dataset we can use the technique called PCA i.e. Principal component Analysis\n",
    " it transforms a large number of variables into smaller one that caontains lot of the information."
   ]
  },
  {
   "cell_type": "code",
   "execution_count": 10,
   "id": "89b88c27",
   "metadata": {},
   "outputs": [
    {
     "name": "stdout",
     "output_type": "stream",
     "text": [
      "2030\n",
      "2065\n",
      "2100\n",
      "2135\n",
      "2170\n",
      "2205\n",
      "2240\n",
      "2275\n",
      "2310\n",
      "2345\n",
      "2380\n",
      "2415\n",
      "2450\n",
      "2485\n",
      "2520\n",
      "2555\n",
      "2590\n",
      "2625\n",
      "2660\n",
      "2695\n",
      "2730\n",
      "2765\n",
      "2800\n",
      "2835\n",
      "2870\n",
      "2905\n",
      "2940\n",
      "2975\n",
      "3010\n",
      "3045\n",
      "3080\n",
      "3115\n",
      "3150\n",
      "3185\n"
     ]
    }
   ],
   "source": [
    "#1)\n",
    "for i in range(2000,3200):\n",
    "    if i%7==0 and i%5==0:\n",
    "        print(i)\n",
    "      "
   ]
  },
  {
   "cell_type": "code",
   "execution_count": 3,
   "id": "12f49982",
   "metadata": {},
   "outputs": [
    {
     "name": "stdout",
     "output_type": "stream",
     "text": [
      "Enter string:Sandesh ISHwar Pednekar\n",
      "number of lowercase characters is: 16\n",
      "The number of uppercase characters is: 5\n"
     ]
    }
   ],
   "source": [
    "#2)\n",
    "sent=input(\"Enter string:\")\n",
    "a=0\n",
    "b=0\n",
    "for i in sent:\n",
    "    if(i.islower()):\n",
    "            a=a+1\n",
    "    elif(i.isupper()):\n",
    "            b=b+1\n",
    "print(\"number of lowercase characters is:\", a)\n",
    "\n",
    "print(\"The number of uppercase characters is:\", b)\n"
   ]
  },
  {
   "cell_type": "raw",
   "id": "f8dd894d",
   "metadata": {},
   "source": [
    "#4\n",
    "\n",
    "naive bayes algorithm\n",
    "=p(c/x) =  p(x/c)*p(c)/ p(x)\n",
    "P(c) is the prior probability of class and p(x) is prior probability of predictor\n",
    "P(x|c) is the likelihood  \n",
    "\n"
   ]
  },
  {
   "cell_type": "raw",
   "id": "35ba75fd",
   "metadata": {},
   "source": [
    "#6\n",
    "this is a sign of overfitting\n",
    "we can use ridge or losso regression that is regularization technique\n",
    "\n",
    "we can reduce the complexity of the model by identifying relevent features\n",
    "\n",
    "we can use cross validation technique, like k-fold"
   ]
  },
  {
   "cell_type": "raw",
   "id": "86daf1fb",
   "metadata": {},
   "source": [
    "#9\n",
    "Ridge and Lasso are both regularization techniques used in linear regression for overfitting and improve the model performance. \n",
    "\n",
    "ridge - adds the squared values to loss function\n",
    "lasso - adds absolute value to the loss function"
   ]
  },
  {
   "cell_type": "code",
   "execution_count": 14,
   "id": "3abcac7b",
   "metadata": {},
   "outputs": [
    {
     "name": "stdout",
     "output_type": "stream",
     "text": [
      "(1, 2, 3, 4, 5)\n",
      "(6, 7, 8, 9, 10)\n"
     ]
    }
   ],
   "source": [
    "#13\n",
    "t = (1, 2, 3, 4, 5, 6, 7, 8, 9, 10)\n",
    "\n",
    "a = len(t) // 2\n",
    "first_half = t[:a]\n",
    "last_half = t[a:]\n",
    "\n",
    "print(first_half)\n",
    "print(last_half)\n"
   ]
  },
  {
   "cell_type": "raw",
   "id": "7b33c65c",
   "metadata": {},
   "source": [
    "#10\n",
    "It is done by using information gain\n",
    "we select the feature who has a high information gain and select it as a root node\n",
    "for that we calculate the entropy first = -sum(p)*log(p)\n"
   ]
  },
  {
   "cell_type": "code",
   "execution_count": 16,
   "id": "efd78efa",
   "metadata": {},
   "outputs": [
    {
     "name": "stdout",
     "output_type": "stream",
     "text": [
      "[152, 130, 174, 122, 192]\n"
     ]
    }
   ],
   "source": [
    "#14\n",
    "import random\n",
    "even_numbers = [num for num in random.sample(range(100, 201, 2), 5)]\n",
    "\n",
    "print(even_numbers)\n"
   ]
  },
  {
   "cell_type": "code",
   "execution_count": 18,
   "id": "f206d49b",
   "metadata": {},
   "outputs": [
    {
     "name": "stdout",
     "output_type": "stream",
     "text": [
      "{1: 1, 2: 4, 3: 9, 4: 16, 5: 25, 6: 36, 7: 49, 8: 64, 9: 81, 10: 100, 11: 121, 12: 144, 13: 169, 14: 196, 15: 225, 16: 256, 17: 289, 18: 324, 19: 361, 20: 400}\n"
     ]
    }
   ],
   "source": [
    "#12\n",
    "di = {num: num ** 2 for num in range(1, 21)}\n",
    "print(di)\n"
   ]
  },
  {
   "cell_type": "code",
   "execution_count": null,
   "id": "3677e2b6",
   "metadata": {},
   "outputs": [],
   "source": []
  }
 ],
 "metadata": {
  "kernelspec": {
   "display_name": "Python 3 (ipykernel)",
   "language": "python",
   "name": "python3"
  },
  "language_info": {
   "codemirror_mode": {
    "name": "ipython",
    "version": 3
   },
   "file_extension": ".py",
   "mimetype": "text/x-python",
   "name": "python",
   "nbconvert_exporter": "python",
   "pygments_lexer": "ipython3",
   "version": "3.11.5"
  }
 },
 "nbformat": 4,
 "nbformat_minor": 5
}
